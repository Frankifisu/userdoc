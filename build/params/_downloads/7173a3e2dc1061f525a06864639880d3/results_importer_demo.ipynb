{
 "cells": [
  {
   "cell_type": "markdown",
   "metadata": {},
   "source": [
    "### Run a reference job"
   ]
  },
  {
   "cell_type": "markdown",
   "metadata": {},
   "source": [
    "ResultsImporters work on finished reference job. Here, we run a geometry optimization on a water molecule with the UFF force field. The calculation is run from python with [PLAMS](../../../Tutorials/WorkflowsAndAutomation/PythonScriptingWithPLAMS.html), but you can also run it with the [graphical user interface](../../../Tutorials/GettingStarted/GeometryOptimizationOfEthanol.html) and skip to [Water molecule reference data](#water-molecule-reference-data)."
   ]
  },
  {
   "cell_type": "code",
   "execution_count": 1,
   "metadata": {},
   "outputs": [
    {
     "name": "stdout",
     "output_type": "stream",
     "text": [
      "[17.09|09:57:06] PLAMS working folder: /tmp/demo_results_importer\n",
      "[17.09|09:57:06] JOB water_ref_geo_opt STARTED\n",
      "[17.09|09:57:06] JOB water_ref_geo_opt RUNNING\n",
      "[17.09|09:57:06] JOB water_ref_geo_opt FINISHED\n",
      "[17.09|09:57:06] JOB water_ref_geo_opt SUCCESSFUL\n",
      "AMS results file located in /tmp/demo_results_importer/water_ref_geo_opt/ams.rkf\n"
     ]
    }
   ],
   "source": [
    "from scm.params import *\n",
    "from scm.plams import *\n",
    "init(path='/tmp', folder='demo_results_importer') # set path=None to use the current working directory, for example if you do not have /tmp on your system\n",
    "\n",
    "# set up a water molecule, can also be set up as mol = Molecule('water.yz') or mol = from_smiles('O')\n",
    "mol = Molecule()\n",
    "mol.add_atom(Atom(symbol='O', coords=(0,0,0)))\n",
    "mol.add_atom(Atom(symbol='H', coords=(1,0,0)))\n",
    "mol.add_atom(Atom(symbol='H', coords=(-0.7,0.7,0)))\n",
    "\n",
    "ref_settings = Settings()\n",
    "ref_settings.runscript.nproc = 1   # run jobs in serial\n",
    "ref_settings.input.ams.task = 'GeometryOptimization'\n",
    "ref_settings.input.forcefield.type = 'UFF'        # run UFF reference calculation\n",
    "#ref_settings.input.adf.xc.gga = 'PBE'            # run DFT reference calculation with ADF\n",
    "#ref_settings.input.band.xc.gga = 'PBE'           # run DFT reference calculation with BAND\n",
    "#ref_settings.input.dftb.model = 'GFN1-xTB'       # run DFTB reference calculation\n",
    "#ref_settings.input.reaxff.forcefield = 'CHO.ff'  # run ReaxFF reference calculation\n",
    "\n",
    "water_ams_results_file = AMSJob(settings=ref_settings, \n",
    "                                molecule=mol, \n",
    "                                name='water_ref_geo_opt').run().rkfpath()\n",
    "\n",
    "print(\"AMS results file located in \" + water_ams_results_file)"
   ]
  },
  {
   "cell_type": "markdown",
   "metadata": {},
   "source": [
    "This creates directory containing the **ams.rkf** result file. You can open it in AMSmovie to visualize the trajectory."
   ]
  },
  {
   "cell_type": "raw",
   "metadata": {
    "raw_mimetype": "text/restructuredtext",
    "tags": []
   },
   "source": [
    ".. figure:: /_static/water_UFF_AMSmovie.png\n",
    "    :width: 60%\n",
    "    :align: center"
   ]
  },
  {
   "cell_type": "markdown",
   "metadata": {},
   "source": [
    "### Water molecule reference data"
   ]
  },
  {
   "cell_type": "markdown",
   "metadata": {},
   "source": [
    "The goal of a ParAMS parametrization is to **as closely as possible reproduce results from reference calculations**. Four types of results will be demonstrated for the water molecule reference calculation:\n",
    "\n",
    "- The calculated **charges** and **forces** at the final geometry. The corresponding job during the parametrization is a **SinglePoint** on the optimized geometry from the reference calculation\n",
    "\n",
    "- The optimized O-H **bond length** and H-O-H **angle** with the parametrized engine. The corresponding job during the parametrization is a **GeometryOptimization** starting from the optimized geometry from the reference calculation\n",
    "\n",
    "- **Relative energies** between multiple snapshots from the geometry optimization trajectory, and **forces** from those same snapshots\n",
    "\n",
    "- A **reaction energy**, in this case the **propene combustion energy** for the reaction C$_3$H$_6$(g) + (9/2) O$_2$(g) → 3 CO$_2$(g) + 3 H$_2$O(g)"
   ]
  },
  {
   "cell_type": "markdown",
   "metadata": {},
   "source": [
    "### Initialize the ResultsImporter"
   ]
  },
  {
   "cell_type": "raw",
   "metadata": {},
   "source": [
    "You can **set the preferred units** that you like to work in when initializing the ResultsImporter. Here, we set the energy unit to **kcal/mol**, and the force unit to **kcal/mol/angstrom**. If no units are set, some :ref:`default units <AvailableExtractors>` will be used. \n",
    "\n",
    "You can also specify the default **maximum number of iterations** for geometry optimization jobs. During the parametrization, it is often convenient to limit the maximum number of steps for individual geometry optimization jobs, so that the job is guaranteed to finish in a reasonable amount of time, even for unreasonable parameter combinations."
   ]
  },
  {
   "cell_type": "code",
   "execution_count": 2,
   "metadata": {},
   "outputs": [],
   "source": [
    "results_importer_settings = Settings()\n",
    "results_importer_settings.units.energy = 'kcal/mol' \n",
    "results_importer_settings.units.forces = 'kcal/mol/angstrom'\n",
    "results_importer_settings.default_go_settings.MaxIterations = 20   # set to False to have unlimited iterations\n",
    "ri = ResultsImporter(settings=results_importer_settings)"
   ]
  },
  {
   "cell_type": "raw",
   "metadata": {
    "raw_mimetype": "text/restructuredtext",
    "tags": []
   },
   "source": [
    "The ``ri`` variable has a :ref:`Job Collection`, :ref:`Engine Collection`, and :ref:`DataSet` (training set):"
   ]
  },
  {
   "cell_type": "code",
   "execution_count": 3,
   "metadata": {},
   "outputs": [
    {
     "name": "stdout",
     "output_type": "stream",
     "text": [
      "<class 'scm.params.core.job_collection.JobCollection'>\n",
      "<class 'scm.params.core.engines.EngineCollection'>\n",
      "<class 'scm.params.core.data_set.DataSet'>\n"
     ]
    }
   ],
   "source": [
    "print(type(ri.job_collection))\n",
    "print(type(ri.engine_collection))\n",
    "print(type(ri.data_set))"
   ]
  },
  {
   "cell_type": "raw",
   "metadata": {
    "raw_mimetype": "text/restructuredtext",
    "tags": []
   },
   "source": [
    ".. _ResultsImporterDemonstrationAddSingleJobSinglePoint:"
   ]
  },
  {
   "cell_type": "markdown",
   "metadata": {},
   "source": [
    "### Add a singlepoint calculation on the optimized geometry"
   ]
  },
  {
   "cell_type": "markdown",
   "metadata": {},
   "source": [
    "The jobs in the job collection are run repeatedly during the ParAMS optimization. They can have any task, for example ``SinglePoint`` or ``GeometryOptimization``.\n",
    "\n",
    "ResultsImporters add jobs to the job collection. The **molecular structure is taken from the reference job**, but the Task is not. **The Task for jobs added via a results importer defaults to** ``SinglePoint``, even if the reference job was a ``GeometryOptimization``!\n",
    "\n"
   ]
  },
  {
   "cell_type": "code",
   "execution_count": 4,
   "metadata": {},
   "outputs": [
    {
     "data": {
      "text/plain": [
       "[\"charges('water_singlepoint')\", \"forces('water_singlepoint')\"]"
      ]
     },
     "execution_count": 4,
     "metadata": {},
     "output_type": "execute_result"
    }
   ],
   "source": [
    "ri.add_singlejob(water_ams_results_file,   # path to ams.rkf or to the jobname.results folder\n",
    "                 properties=['charges', 'forces'],\n",
    "                 name='water_singlepoint') # custom name for this job"
   ]
  },
  {
   "cell_type": "markdown",
   "metadata": {},
   "source": [
    "The ``add_singlejob`` results importer has affected the JobCollection, DataSet, and EngineCollection inside ``ri`` variable. It returns the expressions added to the DataSet (see more below).\n",
    "\n",
    "The job 'water_singlepoint' has been added to the job collection:"
   ]
  },
  {
   "cell_type": "code",
   "execution_count": 5,
   "metadata": {},
   "outputs": [
    {
     "name": "stdout",
     "output_type": "stream",
     "text": [
      "---\n",
      "dtype: JobCollection\n",
      "version: 0.5.1\n",
      "---\n",
      "ID: 'water_singlepoint'\n",
      "ReferenceEngineID: forcefield;;type;UFF;\n",
      "AMSInput: |\n",
      "   properties\n",
      "     gradients Yes\n",
      "   End\n",
      "   system\n",
      "     Atoms\n",
      "                 O      -0.0546774806      -0.1402484791       0.0000000000 \n",
      "                 H       0.9005794476       0.1209122488       0.0000000000 \n",
      "                 H      -0.5459019670       0.7193362302       0.0000000000 \n",
      "     End\n",
      "   End\n",
      "   task singlepoint\n",
      "Origin: /tmp/demo_results_importer/water_ref_geo_opt/ams.rkf\n",
      "OriginalEnergyHartree: 1.280587231661792e-07\n",
      "_Hash_1: 2f7e7abbc8b0b00713beb419d3a5d8cd3b7bb2dbfa536f87b345ec8715d450d6\n",
      "_Hash_2: 23176273e7d0a59e60f2ebb9b58b048d608e41d0cfd6b50bda3c427fc6876475\n",
      "...\n",
      "\n"
     ]
    }
   ],
   "source": [
    "print(ri.job_collection)"
   ]
  },
  {
   "cell_type": "markdown",
   "metadata": {},
   "source": [
    "Above, the **AMSInput** block contains input to the *AMS Driver*, defining a job that will be repeatedly run during the parametrization. The **Atoms** block contains the optimized water molecule from the reference UFF calculation, and the **task** is set to **SinglePoint**. Because we requested the forces, **properties gradients yes** is set. This guarantees that we will be able to extract the forces during the parametrization.\n",
    "\n",
    "The **Origin**, **OriginalEnergyHartree**, **Hash_1** and **Hash_2** are only used internally by the ResultsImporter. For example, the hashes help to prevent adding the same job twice to the job collection.\n",
    "\n",
    "The **ReferenceEngineID** contains a reference to an engine in the **EngineCollection**. This entry in the engine collection contains the settings for the reference job that was run in the beginning. It is not strictly needed for the parametrization."
   ]
  },
  {
   "cell_type": "code",
   "execution_count": 6,
   "metadata": {},
   "outputs": [
    {
     "name": "stdout",
     "output_type": "stream",
     "text": [
      "---\n",
      "dtype: EngineCollection\n",
      "version: 0.5.1\n",
      "---\n",
      "ID: 'forcefield;;type;UFF;'\n",
      "AMSInput: |\n",
      "   Engine forcefield\n",
      "     type UFF\n",
      "   EndEngine\n",
      "...\n",
      "\n"
     ]
    }
   ],
   "source": [
    "print(ri.engine_collection)"
   ]
  },
  {
   "cell_type": "markdown",
   "metadata": {},
   "source": [
    "**The data_set (training set)** contains two entries"
   ]
  },
  {
   "cell_type": "code",
   "execution_count": 7,
   "metadata": {},
   "outputs": [
    {
     "name": "stdout",
     "output_type": "stream",
     "text": [
      "---\n",
      "dtype: DataSet\n",
      "version: 0.5.1\n",
      "---\n",
      "Expression: charges('water_singlepoint')\n",
      "Weight: 1.0\n",
      "Sigma: 0.1\n",
      "ReferenceValue: |\n",
      "   array([-0.83399999,  0.417     ,  0.417     ])\n",
      "Unit: au, 1.0\n",
      "Group: Charges\n",
      "INFO_ReferenceEngineIDs: forcefield;;type;UFF;\n",
      "SubGroup: water_singlepoint\n",
      "---\n",
      "Expression: forces('water_singlepoint')\n",
      "Weight: 1.0\n",
      "Sigma: 3.557463138142747\n",
      "ReferenceValue: |\n",
      "   array([[ 0.25021751, -0.01895832, -0.        ],\n",
      "          [-0.03370832, -0.12831032, -0.        ],\n",
      "          [-0.21650919,  0.14726863, -0.        ]])\n",
      "Unit: kcal/mol/angstrom, 1185.8210460475823\n",
      "Group: Forces\n",
      "INFO_ReferenceEngineIDs: forcefield;;type;UFF;\n",
      "SubGroup: water_singlepoint\n",
      "...\n",
      "\n"
     ]
    }
   ],
   "source": [
    "print(ri.data_set)"
   ]
  },
  {
   "cell_type": "markdown",
   "metadata": {},
   "source": [
    "The two data_set entries have *ReferenceValues* taken from the reference job. The *Unit* for the forces is kcal/mol/angstrom, which was specified as the preferred unit when initializing the ResultsImporter. The *Sigma* values correspond to the default sigma values for the ``charges`` and ``forces`` extractors. The *Weight* default value is 1.0"
   ]
  },
  {
   "cell_type": "raw",
   "metadata": {
    "raw_mimetype": "text/restructuredtext",
    "tags": []
   },
   "source": [
    ".. seealso::\n",
    "\n",
    "    - :ref:`Dataset documentation <Data Set>`\n",
    "    - :ref:`SigmaVsWeight`\n",
    "    - :ref:`AvailableExtractors` with default units and sigma values"
   ]
  },
  {
   "cell_type": "markdown",
   "metadata": {},
   "source": [
    "The results importer has added three pieces of metadata: **Group, SubGroup, and INFO_ReferenceEngineIDs**. The **Group** specifies the type of quantity, and the **SubGroup** from which job the reference data comes. The **Group** and **SubGroup** can be used to help with postprocessing results. The **INFO_ReferenceEngineIDs** contains all the reference engines that were used in the calculation of the reference value.\n",
    "\n",
    "You can change the *Weight* or *Sigma* just like in a standalone DataSet:"
   ]
  },
  {
   "cell_type": "code",
   "execution_count": 8,
   "metadata": {},
   "outputs": [
    {
     "name": "stdout",
     "output_type": "stream",
     "text": [
      "---\n",
      "Expression: charges('water_singlepoint')\n",
      "Weight: 3.14\n",
      "Sigma: 0.2\n",
      "ReferenceValue: |\n",
      "   array([-0.83399999,  0.417     ,  0.417     ])\n",
      "Unit: au, 1.0\n",
      "Group: Charges\n",
      "INFO_ReferenceEngineIDs: forcefield;;type;UFF;\n",
      "SubGroup: water_singlepoint\n",
      "\n"
     ]
    }
   ],
   "source": [
    "ri.data_set[0].sigma = 0.2\n",
    "ri.data_set[0].weight = 3.14\n",
    "print(ri.data_set[0])"
   ]
  },
  {
   "cell_type": "markdown",
   "metadata": {},
   "source": [
    "Alternatively, you can also specify the weight and sigma values when calling the ``add_singlejob`` results importer (see next section)."
   ]
  },
  {
   "cell_type": "raw",
   "metadata": {
    "raw_mimetype": "text/restructuredtext",
    "tags": []
   },
   "source": [
    ".. _ResultsImporterDemonstrationAddSingleJobGeometryOptimization:"
   ]
  },
  {
   "cell_type": "markdown",
   "metadata": {
    "tags": []
   },
   "source": [
    "### Add a geometry optimization job extracting the bond length and bond angle\n",
    "\n",
    "To fit structural results like bond lengths or bond angles, it is necessary to run ``GeometryOptimization`` jobs during the parametrization. Use the ``task`` keyword in ``add_singlejob()``. \n",
    "\n",
    "The ``properties`` can either be given in a list as before, or a ``dict`` with more details (set *weight*, *sigma*, and *unit*). \n",
    "\n",
    "The ``distance`` and ``angle`` extractors accept the atom ids of the atoms. The atom ids start with 0, so atom 0 is the first atom (the O atom), atom 1 is the second atom (one of the H atoms), and atom 2 is the the third atom (the other H atom)."
   ]
  },
  {
   "cell_type": "code",
   "execution_count": 9,
   "metadata": {},
   "outputs": [
    {
     "data": {
      "text/plain": [
       "[\"distance('water_geo_opt',0,1)\", \"angle('water_geo_opt',1,0,2)\"]"
      ]
     },
     "execution_count": 9,
     "metadata": {},
     "output_type": "execute_result"
    }
   ],
   "source": [
    "ri.add_singlejob(water_ams_results_file,         # path to ams.rkf\n",
    "                 properties={\n",
    "                     'distance(0,1)': {  # extract O-H bond length\n",
    "                         'weight': 2.0,\n",
    "                         'sigma': 0.1,\n",
    "                      },\n",
    "                      'angle(1,0,2)': {}, #  H-O-H angle, use default weight and sigma\n",
    "                 },\n",
    "                 task='GeometryOptimization',    # set task to GeometryOptimization\n",
    "                 name='water_geo_opt')           # set a custom name     "
   ]
  },
  {
   "cell_type": "code",
   "execution_count": 10,
   "metadata": {},
   "outputs": [
    {
     "name": "stdout",
     "output_type": "stream",
     "text": [
      "ReferenceEngineID: forcefield;;type;UFF;\n",
      "AMSInput: |\n",
      "   geometryoptimization\n",
      "     MaxIterations 20\n",
      "     PretendConverged Yes\n",
      "   End\n",
      "   system\n",
      "     Atoms\n",
      "                 O      -0.0546774806      -0.1402484791       0.0000000000 \n",
      "                 H       0.9005794476       0.1209122488       0.0000000000 \n",
      "                 H      -0.5459019670       0.7193362302       0.0000000000 \n",
      "     End\n",
      "   End\n",
      "   task geometryoptimization\n",
      "Origin: /tmp/demo_results_importer/water_ref_geo_opt/ams.rkf\n",
      "OriginalEnergyHartree: 1.280587231661792e-07\n",
      "_Hash_1: 5d9741178ce4d1ce13e4797af21815ab3346dfca206c2da9a934f72b091ec656\n",
      "_Hash_2: 12ae5bc2c4266f8eda52b423d2d8a74b409d2fc573992d30ba7b4745d2fdf764\n",
      "\n"
     ]
    }
   ],
   "source": [
    "print(ri.job_collection['water_geo_opt'])"
   ]
  },
  {
   "cell_type": "markdown",
   "metadata": {},
   "source": [
    "Above, the **task** is set to **GeometryOptimization** as requested. There's also a **geometryoptimization** block setting the maximum number of iterations to 20, as was specified in the [ResultsImporter initialization](#initialize-the-resultsimporter). "
   ]
  },
  {
   "cell_type": "code",
   "execution_count": 11,
   "metadata": {},
   "outputs": [
    {
     "name": "stdout",
     "output_type": "stream",
     "text": [
      "[---\n",
      "Expression: distance('water_geo_opt',0,1)\n",
      "Weight: 2.0\n",
      "Sigma: 0.1\n",
      "ReferenceValue: 0.9903134477739629\n",
      "Unit: angstrom, 1.0\n",
      "Group: Distances\n",
      "INFO_ReferenceEngineIDs: forcefield;;type;UFF;\n",
      "SubGroup: water_geo_opt\n",
      ", ---\n",
      "Expression: angle('water_geo_opt',1,0,2)\n",
      "Weight: 1.0\n",
      "Sigma: 2.0\n",
      "ReferenceValue: 104.45592580880005\n",
      "Unit: degree, 1.0\n",
      "Group: Angles\n",
      "INFO_ReferenceEngineIDs: forcefield;;type;UFF;\n",
      "SubGroup: water_geo_opt\n",
      "]\n"
     ]
    }
   ],
   "source": [
    "print(ri.data_set[-2:])   # the two last added entries"
   ]
  },
  {
   "cell_type": "markdown",
   "metadata": {},
   "source": [
    "The UFF-optimized water molecule has an O-H bond length of 0.99 angstrom, and an H-O-H angle of 104.46 degrees."
   ]
  },
  {
   "cell_type": "raw",
   "metadata": {
    "raw_mimetype": "text/restructuredtext",
    "tags": []
   },
   "source": [
    ".. _ResultsImporterDemonstrationAddTrajectory:"
   ]
  },
  {
   "cell_type": "markdown",
   "metadata": {},
   "source": [
    "### Add a trajectory\n",
    "\n",
    "If you have a trajectory file, for example from a geometry optimization or molecular dynamics simulation, you can extract reference results from N equally spaced frames in the trajectory with the ``add_trajectory_singlepoints()`` results importer. The following properties are supported:\n",
    "\n",
    "* energy\n",
    "* relative_energies\n",
    "* forces\n",
    "* stresstensor\n",
    "\n",
    "The properties can only be extracted if they are stored on the trajectory file. For example, forces are not stored by default in AMS MD simulations, but must be enabled before running the simulation.\n",
    "\n",
    "Below the relative_energies and forces from the UFF geometry optimization on the water molecule are extracted. The ``relative_to: min_global`` ensures that the global minimum is included, and that energies are relative to that one. Setting N = 4 will give 3 relative energies and 4 forces added to the data_set."
   ]
  },
  {
   "cell_type": "code",
   "execution_count": 12,
   "metadata": {},
   "outputs": [
    {
     "name": "stdout",
     "output_type": "stream",
     "text": [
      "energy('water_ref_geo_opt_frame001')-energy('water_ref_geo_opt_frame041')\n",
      "13.453134044851744 \n",
      "\n",
      "energy('water_ref_geo_opt_frame014')-energy('water_ref_geo_opt_frame041')\n",
      "0.33548696220146945 \n",
      "\n",
      "energy('water_ref_geo_opt_frame027')-energy('water_ref_geo_opt_frame041')\n",
      "0.00018039405874830625 \n",
      "\n",
      "forces('water_ref_geo_opt_frame001')\n",
      "[[-19.33638687 -71.03436494  -0.        ]\n",
      " [-11.76011501  38.24820485  -0.        ]\n",
      " [ 31.09650188  32.7861601   -0.        ]] \n",
      "\n",
      "forces('water_ref_geo_opt_frame014')\n",
      "[[ 10.06061762  17.4865047   -0.        ]\n",
      " [-20.90983167  -5.01172288  -0.        ]\n",
      " [ 10.84921405 -12.47478182  -0.        ]] \n",
      "\n",
      "forces('water_ref_geo_opt_frame027')\n",
      "[[-0.01951492 -0.66275872 -0.        ]\n",
      " [ 0.28632304 -0.04589373 -0.        ]\n",
      " [-0.26680812  0.70865244 -0.        ]] \n",
      "\n",
      "forces('water_ref_geo_opt_frame041')\n",
      "[[ 0.20235591  0.00085826 -0.        ]\n",
      " [-0.0481112  -0.2308769  -0.        ]\n",
      " [-0.15424472  0.23001864 -0.        ]] \n",
      "\n"
     ]
    }
   ],
   "source": [
    "new_expr = ri.add_trajectory_singlepoints(water_ams_results_file,\n",
    "                             properties={\n",
    "                                'relative_energies': {\n",
    "                                    'relative_to': 'min_global',\n",
    "                                },\n",
    "                                'forces': {},\n",
    "                             },\n",
    "                             N=4) # get 4 frames\n",
    "\n",
    "# print only expression and reference value, the full data_set entry can also be printed: print(ri.data_set[expression])\n",
    "for expression in new_expr:\n",
    "    print(expression)\n",
    "    print(ri.data_set[expression].reference,'\\n')"
   ]
  },
  {
   "cell_type": "markdown",
   "metadata": {},
   "source": [
    "The job collection contains single point calculations with molecules taken from the respective frames in the reference trajectory. Above we didn't specify a ``name`` when calling ``add_trajectory_singlepoints``, so the name is guessed from the reference job.\n",
    "\n",
    "For example, ``water_ref_geo_opt_frame001`` corresponds to the input molecule defined at the beginning of this demonstration:"
   ]
  },
  {
   "cell_type": "code",
   "execution_count": 13,
   "metadata": {},
   "outputs": [
    {
     "name": "stdout",
     "output_type": "stream",
     "text": [
      "ReferenceEngineID: forcefield;;type;UFF;\n",
      "AMSInput: |\n",
      "   properties\n",
      "     gradients Yes\n",
      "   End\n",
      "   system\n",
      "     Atoms\n",
      "                 O       0.0000000000       0.0000000000       0.0000000000 \n",
      "                 H       1.0000000000       0.0000000000       0.0000000000 \n",
      "                 H      -0.7000000000       0.7000000000       0.0000000000 \n",
      "     End\n",
      "     BondOrders\n",
      "        1 2 1.0\n",
      "        1 3 1.0\n",
      "     End\n",
      "   End\n",
      "   task singlepoint\n",
      "Frame: 1\n",
      "Origin: /tmp/demo_results_importer/water_ref_geo_opt/ams.rkf\n",
      "OriginalEnergyHartree: 0.02143906182312575\n",
      "\n"
     ]
    }
   ],
   "source": [
    "print(ri.job_collection['water_ref_geo_opt_frame001'])"
   ]
  },
  {
   "cell_type": "markdown",
   "metadata": {},
   "source": [
    "The ``add_trajectory_singlepoints`` results importer adds another metadata to the job_collection: ``Frame``, corresponding to the frame in the ``Origin`` file from which the input molecule was taken."
   ]
  },
  {
   "cell_type": "raw",
   "metadata": {
    "raw_mimetype": "text/restructuredtext",
    "tags": []
   },
   "source": [
    "The frames to extract can also be specified with \n",
    "\n",
    "* ``add_trajectory_singlepoints(..., start=0, end=40, step=10)`` to extract every 10th frame between steps 0 (inclusive) and 40 (exclusive), or\n",
    "* ``add_trajectory_singlepoints(..., indices=[0,4,5])`` to extract the first, fifth, and sixth frames.\n",
    "\n",
    "For more details, see :meth:`add_trajectory_singlepoints`."
   ]
  },
  {
   "cell_type": "raw",
   "metadata": {
    "raw_mimetype": "text/restructuredtext",
    "tags": []
   },
   "source": [
    ".. _ResultsImporterDemonstrationAddReactionEnergy:"
   ]
  },
  {
   "cell_type": "markdown",
   "metadata": {},
   "source": [
    "### Add a reaction energy"
   ]
  },
  {
   "cell_type": "raw",
   "metadata": {
    "raw_mimetype": "text/restructuredtext",
    "tags": []
   },
   "source": [
    "Add a reaction energy with the :ref:`add_reaction_energy <ResultsImporterAddReactionEnergy>` results importer. The chemical reaction will be **automatically balanced**."
   ]
  },
  {
   "cell_type": "markdown",
   "metadata": {
    "raw_mimetype": "text/restructuredtext",
    "tags": []
   },
   "source": [
    "Here we demonstrate **propene combustion**:  C$_3$H$_6$(g) + (9/2) O$_2$(g) → 3 CO$_2$(g) + 3 H$_2$O(g). We will first need to calculate three more reference jobs for C$_3$H$_6$ (propene), O$_2$ and CO$_2$. **Note that this reaction energy is described very poorly with UFF** (ΔH⁰ = -1.4 kcal/mol, experimental value: -491.8 kcal/mol). To get a more realistic energy, use a different reference engine.\n",
    "\n",
    "Below, the ``from_smiles`` function from PLAMS converts a SMILES string to a ``Molecule``. Before running the jobs, ``init()`` needs to have been called (that was done in [Run a reference job](#run-a-reference-job))."
   ]
  },
  {
   "cell_type": "code",
   "execution_count": 14,
   "metadata": {},
   "outputs": [
    {
     "name": "stdout",
     "output_type": "stream",
     "text": [
      "[17.09|09:57:07] JOB O2 STARTED\n",
      "[17.09|09:57:07] JOB O2 RUNNING\n",
      "[17.09|09:57:07] JOB O2 FINISHED\n",
      "[17.09|09:57:07] JOB O2 SUCCESSFUL\n",
      "[17.09|09:57:07] JOB propene STARTED\n",
      "[17.09|09:57:07] JOB propene RUNNING\n",
      "[17.09|09:57:07] JOB propene FINISHED\n",
      "[17.09|09:57:07] JOB propene SUCCESSFUL\n",
      "[17.09|09:57:07] JOB CO2 STARTED\n",
      "[17.09|09:57:07] JOB CO2 RUNNING\n",
      "[17.09|09:57:07] JOB CO2 FINISHED\n",
      "[17.09|09:57:07] JOB CO2 SUCCESSFUL\n",
      "{'O2': '/tmp/demo_results_importer/O2/ams.rkf', 'propene': '/tmp/demo_results_importer/propene/ams.rkf', 'CO2': '/tmp/demo_results_importer/CO2/ams.rkf'}\n"
     ]
    }
   ],
   "source": [
    "results_files = {}\n",
    "for name, smiles in ('O2', 'O=O'), ('propene', 'CC=C'), ('CO2', 'O=C=O'):\n",
    "    results_files[name] = AMSJob(settings=ref_settings, molecule=from_smiles(smiles), name=name).run().rkfpath()\n",
    "print(results_files)"
   ]
  },
  {
   "cell_type": "code",
   "execution_count": 15,
   "metadata": {},
   "outputs": [
    {
     "name": "stdout",
     "output_type": "stream",
     "text": [
      "---\n",
      "Expression: +3.0*energy('CO2')+3.0*energy('water_geo_opt')-1.0*energy('propene')-4.5*energy('O2')\n",
      "Weight: 1.0\n",
      "Sigma: 5.0\n",
      "ReferenceValue: -1.399510907986646\n",
      "Unit: kcal/mol, 627.5094737775374\n",
      "Group: ReactionEnergy\n",
      "INFO_ReferenceEngineIDs: forcefield;;type;UFF;\n",
      "\n"
     ]
    }
   ],
   "source": [
    "ri.add_reaction_energy(reactants=(results_files['propene'], results_files['O2']),\n",
    "                       products=(results_files['CO2'], water_ams_results_file),\n",
    "                       normalization='r0',   # make the coefficient for the first reactant (propene)\n",
    "                       normalization_value=1.0, #  == 1.0\n",
    "                       task='GeometryOptimization',\n",
    "                       sigma=5.0)\n",
    "print(ri.data_set[-1])"
   ]
  },
  {
   "cell_type": "markdown",
   "metadata": {},
   "source": [
    "The ``add_reaction_energy`` results importer also works for reactions **without reference jobs**. If you know the reaction energy, for example from experimental data or from computational codes not supported by ParAMS, it is enough to simply pass in ``Molecule``s instead of ams.rkf files. This is demonstrated below for the reaction C$_2$H$_4$(g) + HCl(g) → C$_2$H$_5$Cl(g)"
   ]
  },
  {
   "cell_type": "code",
   "execution_count": 16,
   "metadata": {},
   "outputs": [
    {
     "name": "stdout",
     "output_type": "stream",
     "text": [
      "---\n",
      "Expression: +1.0*energy('chloroethane')-1.0*energy('ethylene')-1.0*energy('HCl')\n",
      "Weight: 1.0\n",
      "Sigma: 1.2550189475550748\n",
      "ReferenceValue: -17.1\n",
      "Unit: kcal/mol, 627.5094737775374\n",
      "Group: ReactionEnergy\n",
      "Source: J. Appl. Chem. USSR, 1979, 52, 1439-1442\n",
      "\n"
     ]
    }
   ],
   "source": [
    "ri.add_reaction_energy(reactants=[from_smiles('C=C'), from_smiles('Cl')],\n",
    "                       products=[from_smiles('CCCl')],\n",
    "                       reactants_names=['ethylene', 'HCl'],\n",
    "                       products_names=['chloroethane'],\n",
    "                       task='GeometryOptimization',\n",
    "                       normalization='r0',\n",
    "                       reference=-17.1,\n",
    "                       unit='kcal/mol',\n",
    "                       metadata={\n",
    "                           'Source': 'J. Appl. Chem. USSR, 1979, 52, 1439-1442',\n",
    "                       })\n",
    "print(ri.data_set[-1])"
   ]
  },
  {
   "cell_type": "markdown",
   "metadata": {},
   "source": [
    "The jobs added to the job collection will be run during the parametrization. The **ReferenceEngineID** is set to None, since the molecule did not come from a reference calculation but simply as a set of XYZ coordinates. For example, the job ``'chloroethane'`` looks like this:"
   ]
  },
  {
   "cell_type": "code",
   "execution_count": 17,
   "metadata": {},
   "outputs": [
    {
     "name": "stdout",
     "output_type": "stream",
     "text": [
      "ReferenceEngineID: None\n",
      "AMSInput: |\n",
      "   geometryoptimization\n",
      "     MaxIterations 20\n",
      "     PretendConverged Yes\n",
      "   End\n",
      "   system\n",
      "     Atoms\n",
      "                 C       0.7764540253      -0.0718094540       0.0077352022 \n",
      "                 C      -0.7405504503      -0.0784441089      -0.0210560326 \n",
      "                Cl      -1.2082117678       1.6413909680      -0.1197007086 \n",
      "                 H       1.1086665750       0.3584893732       0.9692166602 \n",
      "                 H       1.2119761077       0.4960752072      -0.8245467312 \n",
      "                 H       1.0858003363      -1.1282582526      -0.1074755487 \n",
      "                 H      -1.0878268370      -0.5387769551       0.9353459698 \n",
      "                 H      -1.1463079893      -0.6786667777      -0.8395188111 \n",
      "     End\n",
      "     BondOrders\n",
      "        1 2 1.0\n",
      "        2 3 1.0\n",
      "        1 4 1.0\n",
      "        1 5 1.0\n",
      "        1 6 1.0\n",
      "        2 7 1.0\n",
      "        2 8 1.0\n",
      "     End\n",
      "   End\n",
      "   task geometryoptimization\n",
      "\n"
     ]
    }
   ],
   "source": [
    "print(ri.job_collection['chloroethane'])"
   ]
  },
  {
   "cell_type": "raw",
   "metadata": {
    "raw_mimetype": "text/restructuredtext",
    "tags": []
   },
   "source": [
    ".. _ResultsImporterDemonstrationDatasets:"
   ]
  },
  {
   "cell_type": "markdown",
   "metadata": {},
   "source": [
    "### Training set, validation set, and other data sets\n",
    "\n",
    "ParAMS can handle an arbitrary number of data sets. Often during parametrization, it is a good idea to have a validation set. During the parameter fitting, the loss function for the training set is minimized, and the loss function for the validation set is monitored to make sure that there is no overfitting.\n",
    "\n",
    "By default, the data set entries added with a results importer are added to the **training set**. To specify a different data set, simply add for example ``data_set='validation_set'`` to the results importer. For example:"
   ]
  },
  {
   "cell_type": "code",
   "execution_count": 18,
   "metadata": {},
   "outputs": [
    {
     "data": {
      "text/plain": [
       "[\"energy('water_singlepoint')\"]"
      ]
     },
     "execution_count": 18,
     "metadata": {},
     "output_type": "execute_result"
    }
   ],
   "source": [
    "ri.add_singlejob(water_ams_results_file, properties=['energy'], data_set='validation_set')"
   ]
  },
  {
   "cell_type": "markdown",
   "metadata": {},
   "source": [
    "The training set can be accessed with either ``ri.data_set`` or ``ri.get_data_set('training_set')``. The validation set is accessed with ``ri.get_data_set('validation_set')``:"
   ]
  },
  {
   "cell_type": "code",
   "execution_count": 19,
   "metadata": {},
   "outputs": [
    {
     "name": "stdout",
     "output_type": "stream",
     "text": [
      "---\n",
      "dtype: DataSet\n",
      "version: 0.5.1\n",
      "---\n",
      "Expression: energy('water_singlepoint')\n",
      "Weight: 1.0\n",
      "Sigma: 1.2550189475550748\n",
      "ReferenceValue: 8.035806198663245e-05\n",
      "Unit: kcal/mol, 627.5094737775374\n",
      "Group: TotalEnergy\n",
      "INFO_ReferenceEngineIDs: forcefield;;type;UFF;\n",
      "SubGroup: water_singlepoint\n",
      "...\n",
      "\n"
     ]
    }
   ],
   "source": [
    "print(ri.get_data_set('validation_set'))"
   ]
  },
  {
   "cell_type": "markdown",
   "metadata": {},
   "source": [
    "### Exit PLAMS\n",
    "\n",
    "If you used PLAMS to run the reference jobs, the ``finish()`` function [should be called at the end](../../../plams/started.html#running-plams), if ``init()`` was called at the beginning."
   ]
  },
  {
   "cell_type": "code",
   "execution_count": 20,
   "metadata": {},
   "outputs": [
    {
     "name": "stdout",
     "output_type": "stream",
     "text": [
      "[17.09|09:57:07] PLAMS run finished. Goodbye\n"
     ]
    }
   ],
   "source": [
    "finish()"
   ]
  },
  {
   "cell_type": "raw",
   "metadata": {
    "raw_mimetype": "text/restructuredtext",
    "tags": []
   },
   "source": [
    ".. _ResultsImporterDemonstrationSaveToDisk:"
   ]
  },
  {
   "cell_type": "markdown",
   "metadata": {},
   "source": [
    "### Save to disk"
   ]
  },
  {
   "cell_type": "raw",
   "metadata": {},
   "source": [
    "The :meth:`store()` method saves"
   ]
  },
  {
   "cell_type": "markdown",
   "metadata": {},
   "source": [
    "* the job collection to ``job_collection.yaml`` and ``job_collection.pkl``\n",
    "* the training set to ``training_set.yaml`` and ``training_set.pkl``\n",
    "* any other data sets, e.g. ``validation_set.yaml`` and ``validation_set.pkl``\n",
    "* the engine collection to ``engine_collection.yaml``\n",
    "* the settings used for the results importer to ``results_importer_settings.yaml``\n",
    "\n",
    "The ``.yaml`` files are text based, and the ``.pkl`` files are binary. The binary files are faster to load than the text files."
   ]
  },
  {
   "cell_type": "code",
   "execution_count": 21,
   "metadata": {},
   "outputs": [
    {
     "data": {
      "text/plain": [
       "['saved_files/job_collection.yaml',\n",
       " 'saved_files/job_collection.pkl',\n",
       " 'saved_files/engine_collection.yaml',\n",
       " 'saved_files/results_importer_settings.yaml',\n",
       " 'saved_files/training_set.yaml',\n",
       " 'saved_files/training_set.pkl',\n",
       " 'saved_files/validation_set.yaml',\n",
       " 'saved_files/validation_set.pkl']"
      ]
     },
     "execution_count": 21,
     "metadata": {},
     "output_type": "execute_result"
    }
   ],
   "source": [
    "ri.store(folder='saved_files', backup=True, text=True, binary=True)"
   ]
  },
  {
   "cell_type": "markdown",
   "metadata": {},
   "source": [
    "You can later load those files into another results importer in a separate script. It is in general recommended to repeatedly extend a data_set, rather than to create many small data_sets and try to merge them all at once. This is because entries in the job_collection and data_set need to be unique.\n",
    "\n",
    "To load from files, initialize the results importer with \n",
    "```text\n",
    "new_ri = ResultsImporter(job_collection='/path/job_collection.pkl', \n",
    "                         data_set={'training_set': '/path/training_set.yaml', 'validation_set': '/path/validation_set.yaml'}, \n",
    "                         engine_collection='/path/engine_collection.yaml', \n",
    "                         settings='/path/results_importer_settings.yaml')\n",
    "```"
   ]
  }
 ],
 "metadata": {
  "kernelspec": {
   "display_name": "Python 3",
   "language": "python",
   "name": "python3"
  },
  "language_info": {
   "codemirror_mode": {
    "name": "ipython",
    "version": 3
   },
   "file_extension": ".py",
   "mimetype": "text/x-python",
   "name": "python",
   "nbconvert_exporter": "python",
   "pygments_lexer": "ipython3",
   "version": "3.6.9"
  }
 },
 "nbformat": 4,
 "nbformat_minor": 4
}
